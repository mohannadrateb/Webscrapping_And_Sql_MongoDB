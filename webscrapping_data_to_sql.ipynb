{
 "cells": [
  {
   "cell_type": "code",
   "execution_count": 5,
   "metadata": {},
   "outputs": [
    {
     "data": {
      "text/html": [
       "<div>\n",
       "<style scoped>\n",
       "    .dataframe tbody tr th:only-of-type {\n",
       "        vertical-align: middle;\n",
       "    }\n",
       "\n",
       "    .dataframe tbody tr th {\n",
       "        vertical-align: top;\n",
       "    }\n",
       "\n",
       "    .dataframe thead th {\n",
       "        text-align: right;\n",
       "    }\n",
       "</style>\n",
       "<table border=\"1\" class=\"dataframe\">\n",
       "  <thead>\n",
       "    <tr style=\"text-align: right;\">\n",
       "      <th></th>\n",
       "      <th>company_name</th>\n",
       "      <th>job_name</th>\n",
       "      <th>job_desc</th>\n",
       "      <th>job_req_and_info</th>\n",
       "    </tr>\n",
       "  </thead>\n",
       "  <tbody>\n",
       "    <tr>\n",
       "      <th>0</th>\n",
       "      <td>Get Your Guide</td>\n",
       "      <td>Senior Data Analyst, Business Analytics (Suppl...</td>\n",
       "      <td>*What you'll do: You will be focusing on uncov...</td>\n",
       "      <td>Berlin, DE Visa sponsorship in English Python,...</td>\n",
       "    </tr>\n",
       "    <tr>\n",
       "      <th>1</th>\n",
       "      <td>Amazon</td>\n",
       "      <td>Applied Scientist (MT), ASIN Localization</td>\n",
       "      <td>*What you'll do: You will focus on delivering ...</td>\n",
       "      <td>Berlin, DE Visa sponsorship in English Python,...</td>\n",
       "    </tr>\n",
       "    <tr>\n",
       "      <th>2</th>\n",
       "      <td>Autodesk</td>\n",
       "      <td>AI Research Scientist</td>\n",
       "      <td>*What you'll do: You will be doing fundamental...</td>\n",
       "      <td>Munich, DE Visa sponsorship in English Python,...</td>\n",
       "    </tr>\n",
       "    <tr>\n",
       "      <th>3</th>\n",
       "      <td>Tesla</td>\n",
       "      <td>Data Analyst Supply Chain (m/w/d) - Gigafactory</td>\n",
       "      <td>*What you'll do: You will be working on delive...</td>\n",
       "      <td>Berlin, DE Visa sponsorship in English Python,...</td>\n",
       "    </tr>\n",
       "    <tr>\n",
       "      <th>4</th>\n",
       "      <td>Zalando</td>\n",
       "      <td>Data Engineer - Partner Tech</td>\n",
       "      <td>*What you'll do: You will support the implemen...</td>\n",
       "      <td>Berlin, DE Visa sponsorship in English Python,...</td>\n",
       "    </tr>\n",
       "    <tr>\n",
       "      <th>...</th>\n",
       "      <td>...</td>\n",
       "      <td>...</td>\n",
       "      <td>...</td>\n",
       "      <td>...</td>\n",
       "    </tr>\n",
       "    <tr>\n",
       "      <th>56</th>\n",
       "      <td>epilot</td>\n",
       "      <td>Senior Data Engineer</td>\n",
       "      <td>*What you'll do: You will build pipelines to e...</td>\n",
       "      <td>Cologne, DE Visa sponsorship in English Python...</td>\n",
       "    </tr>\n",
       "    <tr>\n",
       "      <th>57</th>\n",
       "      <td>Zalando</td>\n",
       "      <td>Senior Applied Scientist</td>\n",
       "      <td>*What you'll do: You will be working on tailor...</td>\n",
       "      <td>Berlin, DE Visa sponsorship in English Python,...</td>\n",
       "    </tr>\n",
       "    <tr>\n",
       "      <th>58</th>\n",
       "      <td>Zalando</td>\n",
       "      <td>Senior Applied Scientist</td>\n",
       "      <td>*What you'll do: You will be working on implem...</td>\n",
       "      <td>Dortmund, DE Visa sponsorship in English Pytho...</td>\n",
       "    </tr>\n",
       "    <tr>\n",
       "      <th>59</th>\n",
       "      <td>Zalando</td>\n",
       "      <td>Applied Scientist (Marketing Intelligence)</td>\n",
       "      <td>*What you'll do: You will ensure the optimal a...</td>\n",
       "      <td>Berlin, DE Visa sponsorship in English Python,...</td>\n",
       "    </tr>\n",
       "    <tr>\n",
       "      <th>60</th>\n",
       "      <td>adjoe</td>\n",
       "      <td>Senior Data Scientist</td>\n",
       "      <td>*What you'll do: You will work on ML models to...</td>\n",
       "      <td>Hamburg, DE Visa sponsorship in English Python...</td>\n",
       "    </tr>\n",
       "  </tbody>\n",
       "</table>\n",
       "<p>61 rows × 4 columns</p>\n",
       "</div>"
      ],
      "text/plain": [
       "      company_name                                           job_name  \\\n",
       "0   Get Your Guide  Senior Data Analyst, Business Analytics (Suppl...   \n",
       "1           Amazon          Applied Scientist (MT), ASIN Localization   \n",
       "2         Autodesk                              AI Research Scientist   \n",
       "3            Tesla    Data Analyst Supply Chain (m/w/d) - Gigafactory   \n",
       "4          Zalando                       Data Engineer - Partner Tech   \n",
       "..             ...                                                ...   \n",
       "56          epilot                               Senior Data Engineer   \n",
       "57         Zalando                           Senior Applied Scientist   \n",
       "58         Zalando                           Senior Applied Scientist   \n",
       "59         Zalando         Applied Scientist (Marketing Intelligence)   \n",
       "60           adjoe                              Senior Data Scientist   \n",
       "\n",
       "                                             job_desc  \\\n",
       "0   *What you'll do: You will be focusing on uncov...   \n",
       "1   *What you'll do: You will focus on delivering ...   \n",
       "2   *What you'll do: You will be doing fundamental...   \n",
       "3   *What you'll do: You will be working on delive...   \n",
       "4   *What you'll do: You will support the implemen...   \n",
       "..                                                ...   \n",
       "56  *What you'll do: You will build pipelines to e...   \n",
       "57  *What you'll do: You will be working on tailor...   \n",
       "58  *What you'll do: You will be working on implem...   \n",
       "59  *What you'll do: You will ensure the optimal a...   \n",
       "60  *What you'll do: You will work on ML models to...   \n",
       "\n",
       "                                     job_req_and_info  \n",
       "0   Berlin, DE Visa sponsorship in English Python,...  \n",
       "1   Berlin, DE Visa sponsorship in English Python,...  \n",
       "2   Munich, DE Visa sponsorship in English Python,...  \n",
       "3   Berlin, DE Visa sponsorship in English Python,...  \n",
       "4   Berlin, DE Visa sponsorship in English Python,...  \n",
       "..                                                ...  \n",
       "56  Cologne, DE Visa sponsorship in English Python...  \n",
       "57  Berlin, DE Visa sponsorship in English Python,...  \n",
       "58  Dortmund, DE Visa sponsorship in English Pytho...  \n",
       "59  Berlin, DE Visa sponsorship in English Python,...  \n",
       "60  Hamburg, DE Visa sponsorship in English Python...  \n",
       "\n",
       "[61 rows x 4 columns]"
      ]
     },
     "execution_count": 5,
     "metadata": {},
     "output_type": "execute_result"
    }
   ],
   "source": [
    "import pandas as pd\n",
    "df = pd.read_csv(\"jobs.csv\")\n",
    "df"
   ]
  },
  {
   "cell_type": "code",
   "execution_count": 6,
   "metadata": {},
   "outputs": [],
   "source": [
    "import sqlite3"
   ]
  },
  {
   "cell_type": "code",
   "execution_count": 1,
   "metadata": {},
   "outputs": [],
   "source": [
    "from sqlalchemy import create_engine\n",
    "engine = create_engine('sqlite://', echo=False)"
   ]
  },
  {
   "cell_type": "code",
   "execution_count": 6,
   "metadata": {},
   "outputs": [
    {
     "data": {
      "text/plain": [
       "61"
      ]
     },
     "execution_count": 6,
     "metadata": {},
     "output_type": "execute_result"
    }
   ],
   "source": [
    "df.to_sql('jobs', engine) "
   ]
  },
  {
   "cell_type": "code",
   "execution_count": 13,
   "metadata": {},
   "outputs": [
    {
     "name": "stdout",
     "output_type": "stream",
     "text": [
      "Get Your Guide\n",
      "Zalando\n",
      "Get Your Guide\n",
      "Get Your Guide\n",
      "Zalando\n",
      "SumUp\n",
      "Wolt\n",
      "Sixt\n",
      "Zalando\n",
      "Zalando\n",
      "Microsoft\n",
      "Zalando\n",
      "Zalando\n",
      "Zalando\n",
      "epilot\n",
      "adjoe\n"
     ]
    }
   ],
   "source": [
    "from sqlalchemy import text \n",
    "  \n",
    "# establish the connection with the engine object \n",
    "with engine.connect() as conn: \n",
    "    \n",
    "    # let's select the column credit_history \n",
    "    # from the loan data table \n",
    "    result = conn.execute(text(\"SELECT * FROM jobs where job_name LIKE '%Senior Data%'\")) \n",
    "    \n",
    "      \n",
    "    # print the result \n",
    "    for row in result: \n",
    "        print(row.company_name)"
   ]
  },
  {
   "cell_type": "code",
   "execution_count": null,
   "metadata": {},
   "outputs": [],
   "source": [
    "with engine.connect() as conn: \n",
    "    \n",
    "    # let's select the column credit_history \n",
    "    # from the loan data table \n",
    "    result = conn.execute(text(\"SELECT * FROM jobs Where \")) \n",
    "      \n",
    "    # print the result \n",
    "    for row in result: \n",
    "        print(row.company_name)"
   ]
  }
 ],
 "metadata": {
  "kernelspec": {
   "display_name": "Python 3",
   "language": "python",
   "name": "python3"
  },
  "language_info": {
   "codemirror_mode": {
    "name": "ipython",
    "version": 3
   },
   "file_extension": ".py",
   "mimetype": "text/x-python",
   "name": "python",
   "nbconvert_exporter": "python",
   "pygments_lexer": "ipython3",
   "version": "3.9.7"
  }
 },
 "nbformat": 4,
 "nbformat_minor": 2
}
